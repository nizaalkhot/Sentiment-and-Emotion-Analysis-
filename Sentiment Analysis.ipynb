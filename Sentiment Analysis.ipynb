{
 "cells": [
  {
   "cell_type": "code",
   "execution_count": 2,
   "id": "4ebbf991-e914-4bc5-8232-cc643f8b6a7d",
   "metadata": {},
   "outputs": [
    {
     "name": "stdout",
     "output_type": "stream",
     "text": [
      "<class 'pandas.core.frame.DataFrame'>\n",
      "RangeIndex: 3309 entries, 0 to 3308\n",
      "Data columns (total 2 columns):\n",
      " #   Column     Non-Null Count  Dtype \n",
      "---  ------     --------------  ----- \n",
      " 0   sentence   3309 non-null   object\n",
      " 1   sentiment  3309 non-null   object\n",
      "dtypes: object(2)\n",
      "memory usage: 51.8+ KB\n"
     ]
    },
    {
     "data": {
      "text/plain": [
       "{'head':                                             sentence sentiment\n",
       " 0  So there is no way for me to plug it in here i...  negative\n",
       " 1                        Good case, Excellent value.  positive\n",
       " 2                             Great for the jawbone.  positive\n",
       " 3  Tied to charger for conversations lasting more...  negative\n",
       " 4                                  The mic is great.  positive,\n",
       " 'info': None,\n",
       " 'missing_values': sentence     0\n",
       " sentiment    0\n",
       " dtype: int64}"
      ]
     },
     "execution_count": 2,
     "metadata": {},
     "output_type": "execute_result"
    }
   ],
   "source": [
    "import pandas as pd\n",
    "\n",
    "# Load the dataset\n",
    "file_path = 'combined_sentiment_data.csv'\n",
    "data = pd.read_csv(file_path)\n",
    "\n",
    "# Display basic information about the dataset\n",
    "data_info = {\n",
    "    \"head\": data.head(),\n",
    "    \"info\": data.info(),\n",
    "    \"missing_values\": data.isnull().sum()\n",
    "}\n",
    "data_info"
   ]
  },
  {
   "cell_type": "code",
   "execution_count": 4,
   "id": "5ef14730-7c0a-4644-875d-de112df2575c",
   "metadata": {},
   "outputs": [
    {
     "name": "stderr",
     "output_type": "stream",
     "text": [
      "[nltk_data] Downloading package stopwords to\n",
      "[nltk_data]     C:\\Users\\nijaa\\AppData\\Roaming\\nltk_data...\n",
      "[nltk_data]   Package stopwords is already up-to-date!\n"
     ]
    },
    {
     "data": {
      "text/html": [
       "<div>\n",
       "<style scoped>\n",
       "    .dataframe tbody tr th:only-of-type {\n",
       "        vertical-align: middle;\n",
       "    }\n",
       "\n",
       "    .dataframe tbody tr th {\n",
       "        vertical-align: top;\n",
       "    }\n",
       "\n",
       "    .dataframe thead th {\n",
       "        text-align: right;\n",
       "    }\n",
       "</style>\n",
       "<table border=\"1\" class=\"dataframe\">\n",
       "  <thead>\n",
       "    <tr style=\"text-align: right;\">\n",
       "      <th></th>\n",
       "      <th>cleaned_sentence</th>\n",
       "      <th>sentiment</th>\n",
       "      <th>sentiment_encoded</th>\n",
       "    </tr>\n",
       "  </thead>\n",
       "  <tbody>\n",
       "    <tr>\n",
       "      <th>0</th>\n",
       "      <td>way plug us unless go converter</td>\n",
       "      <td>negative</td>\n",
       "      <td>0</td>\n",
       "    </tr>\n",
       "    <tr>\n",
       "      <th>1</th>\n",
       "      <td>good case excellent value</td>\n",
       "      <td>positive</td>\n",
       "      <td>1</td>\n",
       "    </tr>\n",
       "    <tr>\n",
       "      <th>2</th>\n",
       "      <td>great jawbone</td>\n",
       "      <td>positive</td>\n",
       "      <td>1</td>\n",
       "    </tr>\n",
       "    <tr>\n",
       "      <th>3</th>\n",
       "      <td>tied charger conversations lasting 45 minutesm...</td>\n",
       "      <td>negative</td>\n",
       "      <td>0</td>\n",
       "    </tr>\n",
       "    <tr>\n",
       "      <th>4</th>\n",
       "      <td>mic great</td>\n",
       "      <td>positive</td>\n",
       "      <td>1</td>\n",
       "    </tr>\n",
       "  </tbody>\n",
       "</table>\n",
       "</div>"
      ],
      "text/plain": [
       "                                    cleaned_sentence sentiment  \\\n",
       "0                    way plug us unless go converter  negative   \n",
       "1                          good case excellent value  positive   \n",
       "2                                      great jawbone  positive   \n",
       "3  tied charger conversations lasting 45 minutesm...  negative   \n",
       "4                                          mic great  positive   \n",
       "\n",
       "   sentiment_encoded  \n",
       "0                  0  \n",
       "1                  1  \n",
       "2                  1  \n",
       "3                  0  \n",
       "4                  1  "
      ]
     },
     "execution_count": 4,
     "metadata": {},
     "output_type": "execute_result"
    }
   ],
   "source": [
    "import string\n",
    "import nltk\n",
    "from nltk.corpus import stopwords\n",
    "\n",
    "# Download stopwords\n",
    "nltk.download('stopwords')\n",
    "stop_words = set(stopwords.words('english'))\n",
    "\n",
    "# Text cleaning function\n",
    "def clean_text(text):\n",
    "    # Lowercase text\n",
    "    text = text.lower()\n",
    "    # Remove punctuation\n",
    "    text = text.translate(str.maketrans('', '', string.punctuation))\n",
    "    # Remove stopwords\n",
    "    text = \" \".join(word for word in text.split() if word not in stop_words)\n",
    "    return text\n",
    "\n",
    "# Apply text cleaning\n",
    "data['cleaned_sentence'] = data['sentence'].apply(clean_text)\n",
    "\n",
    "# Encode the target labels\n",
    "from sklearn.preprocessing import LabelEncoder\n",
    "\n",
    "label_encoder = LabelEncoder()\n",
    "data['sentiment_encoded'] = label_encoder.fit_transform(data['sentiment'])\n",
    "\n",
    "# Display sample of cleaned data\n",
    "data[['cleaned_sentence', 'sentiment', 'sentiment_encoded']].head()"
   ]
  },
  {
   "cell_type": "code",
   "execution_count": 6,
   "id": "1cf301b8-eae7-4b2f-9b56-8f7273806cfc",
   "metadata": {},
   "outputs": [
    {
     "name": "stderr",
     "output_type": "stream",
     "text": [
      "C:\\Users\\nijaa\\AppData\\Local\\Temp\\ipykernel_6540\\2224637077.py:6: FutureWarning: \n",
      "\n",
      "Passing `palette` without assigning `hue` is deprecated and will be removed in v0.14.0. Assign the `x` variable to `hue` and set `legend=False` for the same effect.\n",
      "\n",
      "  sns.countplot(x='sentiment', data=data, order=data['sentiment'].value_counts().index, palette=\"viridis\")\n"
     ]
    },
    {
     "data": {
      "image/png": "[encoded data removed]",
      "text/plain": [
       "<Figure size 1000x600 with 1 Axes>"
      ]
     },
     "metadata": {},
     "output_type": "display_data"
    }
   ],
   "source": [
    "import matplotlib.pyplot as plt\n",
    "import seaborn as sns\n",
    "\n",
    "# Visualize the distribution of emotion classes\n",
    "plt.figure(figsize=(10, 6))\n",
    "sns.countplot(x='sentiment', data=data, order=data['sentiment'].value_counts().index, palette=\"viridis\")\n",
    "plt.title('Distribution of Sentiment Classes', fontsize=16)\n",
    "plt.xlabel('Sentiment', fontsize=12)\n",
    "plt.ylabel('Count', fontsize=12)\n",
    "plt.xticks(rotation=45)\n",
    "plt.show()"
   ]
  },
  {
   "cell_type": "code",
   "execution_count": 7,
   "id": "7de0cd38-2fa7-4b3d-ba64-a1ab73e7f421",
   "metadata": {},
   "outputs": [
    {
     "data": {
      "text/plain": [
       "{'accuracy': 0.8036253776435045,\n",
       " 'classification_report': '              precision    recall  f1-score   support\\n\\n    negative       0.82      0.77      0.79       326\\n    positive       0.79      0.83      0.81       336\\n\\n    accuracy                           0.80       662\\n   macro avg       0.80      0.80      0.80       662\\nweighted avg       0.80      0.80      0.80       662\\n'}"
      ]
     },
     "execution_count": 7,
     "metadata": {},
     "output_type": "execute_result"
    }
   ],
   "source": [
    "from sklearn.model_selection import train_test_split\n",
    "from sklearn.feature_extraction.text import TfidfVectorizer\n",
    "from sklearn.linear_model import LogisticRegression\n",
    "from sklearn.metrics import classification_report, accuracy_score\n",
    "\n",
    "# Step 1: Text Vectorization using TF-IDF\n",
    "vectorizer = TfidfVectorizer(max_features=5000)  # Limit to top 5000 features\n",
    "X = vectorizer.fit_transform(data['cleaned_sentence'])  # Feature matrix\n",
    "y = data['sentiment_encoded']  # Target labels\n",
    "\n",
    "# Step 2: Train-Test Split\n",
    "X_train, X_test, y_train, y_test = train_test_split(X, y, test_size=0.2, random_state=42, stratify=y)\n",
    "\n",
    "# Step 3: Model Training (Logistic Regression)\n",
    "model = LogisticRegression(max_iter=200, random_state=42)\n",
    "model.fit(X_train, y_train)\n",
    "\n",
    "# Step 4: Model Evaluation\n",
    "y_pred = model.predict(X_test)\n",
    "report = classification_report(y_test, y_pred, target_names=label_encoder.classes_)\n",
    "accuracy = accuracy_score(y_test, y_pred)\n",
    "\n",
    "# Display evaluation metrics\n",
    "evaluation_results = {\n",
    "    \"accuracy\": accuracy,\n",
    "    \"classification_report\": report\n",
    "}\n",
    "evaluation_results"
   ]
  },
  {
   "cell_type": "code",
   "execution_count": 8,
   "id": "f1337407-cb4f-4482-ad9a-31d38279278e",
   "metadata": {},
   "outputs": [
    {
     "name": "stdout",
     "output_type": "stream",
     "text": [
      "              precision    recall  f1-score   support\n",
      "\n",
      "    negative       0.82      0.77      0.79       326\n",
      "    positive       0.79      0.83      0.81       336\n",
      "\n",
      "    accuracy                           0.80       662\n",
      "   macro avg       0.80      0.80      0.80       662\n",
      "weighted avg       0.80      0.80      0.80       662\n",
      "\n"
     ]
    }
   ],
   "source": [
    "print(evaluation_results['classification_report'])"
   ]
  }
 ],
 "metadata": {
  "kernelspec": {
   "display_name": "Python 3 (ipykernel)",
   "language": "python",
   "name": "python3"
  },
  "language_info": {
   "codemirror_mode": {
    "name": "ipython",
    "version": 3
   },
   "file_extension": ".py",
   "mimetype": "text/x-python",
   "name": "python",
   "nbconvert_exporter": "python",
   "pygments_lexer": "ipython3",
   "version": "3.12.8"
  }
 },
 "nbformat": 4,
 "nbformat_minor": 5
}
